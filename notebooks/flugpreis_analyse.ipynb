{
 "cells": [
  {
   "cell_type": "code",
   "execution_count": null,
   "id": "40ca70b8",
   "metadata": {},
   "outputs": [],
   "source": [
    "import sys\n",
    "sys.path.append('../')"
   ]
  },
  {
   "cell_type": "code",
   "execution_count": null,
   "id": "d42b99e2",
   "metadata": {},
   "outputs": [],
   "source": [
    "from app.app import (\n",
    "    fetch_flight_data,\n",
    "    prepare_dataframe,\n",
    "    analyze_price_distribution,\n",
    "    compare_weekday_prices,\n",
    "    run_statistical_test\n",
    ")"
   ]
  },
  {
   "cell_type": "code",
   "execution_count": null,
   "id": "42e76f1d",
   "metadata": {},
   "outputs": [],
   "source": [
    "import matplotlib.pyplot as plt\n",
    "import seaborn as sns\n",
    "import pandas as pd"
   ]
  },
  {
   "cell_type": "code",
   "execution_count": null,
   "id": "de5cbcbb",
   "metadata": {},
   "outputs": [],
   "source": [
    "print(\"Hole Flugdaten...\")\n",
    "raw_data = fetch_flight_data(\"FRA\", \"BCN\")  # Frankfurt → Barcelona\n",
    "df = prepare_dataframe(raw_data)"
   ]
  },
  {
   "cell_type": "code",
   "execution_count": null,
   "id": "6e1312f8",
   "metadata": {},
   "outputs": [],
   "source": [
    "print(\"Erste Zeilen der Daten:\")\n",
    "print(df.head())"
   ]
  },
  {
   "cell_type": "code",
   "execution_count": null,
   "id": "cb296d13",
   "metadata": {},
   "outputs": [],
   "source": [
    "plt.figure(figsize=(10, 5))\n",
    "sns.lineplot(x=\"date\", y=\"price\", data=df)\n",
    "plt.title(\"Flugpreise FRA → BCN (nächste 30 Tage)\")\n",
    "plt.xlabel(\"Datum\")\n",
    "plt.ylabel(\"Preis in EUR\")\n",
    "plt.xticks(rotation=45)\n",
    "plt.tight_layout()\n",
    "plt.show()"
   ]
  },
  {
   "cell_type": "code",
   "execution_count": null,
   "id": "ca35d6c9",
   "metadata": {},
   "outputs": [],
   "source": [
    "weekday_avg = compare_weekday_prices(df)\n",
    "print(\"\\nDurchschnittliche Preise pro Wochentag:\")\n",
    "print(weekday_avg.sort_values())"
   ]
  },
  {
   "cell_type": "code",
   "execution_count": null,
   "id": "4ff45d9b",
   "metadata": {},
   "outputs": [],
   "source": [
    "t, p = run_statistical_test(df)\n",
    "print(f\"\\n t-Test Ergebnis:\")\n",
    "print(f\"t-Wert: {t:.2f}\")\n",
    "print(f\"p-Wert: {p:.4f}\")\n",
    "\n",
    "# Bewertung der Signifikanz\n",
    "if p < 0.05:\n",
    "    print(\"Statistisch signifikanter Unterschied zwischen Montag und Freitag\")\n",
    "else:\n",
    "    print(\"Kein signifikanter Preisunterschied festgestellt\")"
   ]
  }
 ],
 "metadata": {
  "language_info": {
   "name": "python"
  }
 },
 "nbformat": 4,
 "nbformat_minor": 5
}
