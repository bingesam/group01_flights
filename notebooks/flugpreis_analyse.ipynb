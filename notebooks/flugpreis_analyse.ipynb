{
 "cells": [
  {
   "cell_type": "code",
   "execution_count": 15,
   "id": "40ca70b8",
   "metadata": {},
   "outputs": [],
   "source": [
    "import sys\n",
    "sys.path.append('../') "
   ]
  },
  {
   "cell_type": "code",
   "execution_count": null,
   "id": "0b263a34",
   "metadata": {},
   "outputs": [
    {
     "ename": "ModuleNotFoundError",
     "evalue": "No module named 'app.app'; 'app' is not a package",
     "output_type": "error",
     "traceback": [
      "\u001b[31m---------------------------------------------------------------------------\u001b[39m",
      "\u001b[31mModuleNotFoundError\u001b[39m                       Traceback (most recent call last)",
      "\u001b[36mCell\u001b[39m\u001b[36m \u001b[39m\u001b[32mIn[16]\u001b[39m\u001b[32m, line 1\u001b[39m\n\u001b[32m----> \u001b[39m\u001b[32m1\u001b[39m \u001b[38;5;28;01mfrom\u001b[39;00m\u001b[38;5;250m \u001b[39m\u001b[34;01mapp\u001b[39;00m\u001b[34;01m.\u001b[39;00m\u001b[34;01mapp\u001b[39;00m\u001b[38;5;250m \u001b[39m\u001b[38;5;28;01mimport\u001b[39;00m (\n\u001b[32m      2\u001b[39m     fetch_flight_data,\n\u001b[32m      3\u001b[39m     prepare_dataframe,\n\u001b[32m      4\u001b[39m     analyze_price_distribution,\n\u001b[32m      5\u001b[39m     compare_weekday_prices,\n\u001b[32m      6\u001b[39m     run_statistical_test\n\u001b[32m      7\u001b[39m )\n",
      "\u001b[31mModuleNotFoundError\u001b[39m: No module named 'app.app'; 'app' is not a package"
     ]
    }
   ],
   "source": [
    "from app.mainapp import (\n",
    "    fetch_flight_data,\n",
    "    prepare_dataframe,\n",
    "    analyze_price_distribution,\n",
    "    compare_weekday_prices,\n",
    "    run_statistical_test\n",
    ")"
   ]
  },
  {
   "cell_type": "code",
   "execution_count": null,
   "id": "d42b99e2",
   "metadata": {},
   "outputs": [],
   "source": [
    "import matplotlib.pyplot as plt\n",
    "import seaborn as sns\n",
    "import pandas as pd\n"
   ]
  },
  {
   "cell_type": "code",
   "execution_count": null,
   "id": "de5cbcbb",
   "metadata": {},
   "outputs": [
    {
     "name": "stdout",
     "output_type": "stream",
     "text": [
      "Hole Flugdaten...\n"
     ]
    },
    {
     "ename": "NameError",
     "evalue": "name 'fetch_flight_data' is not defined",
     "output_type": "error",
     "traceback": [
      "\u001b[31m---------------------------------------------------------------------------\u001b[39m",
      "\u001b[31mNameError\u001b[39m                                 Traceback (most recent call last)",
      "\u001b[36mCell\u001b[39m\u001b[36m \u001b[39m\u001b[32mIn[13]\u001b[39m\u001b[32m, line 2\u001b[39m\n\u001b[32m      1\u001b[39m \u001b[38;5;28mprint\u001b[39m(\u001b[33m\"\u001b[39m\u001b[33mHole Flugdaten...\u001b[39m\u001b[33m\"\u001b[39m)\n\u001b[32m----> \u001b[39m\u001b[32m2\u001b[39m raw_data = \u001b[43mfetch_flight_data\u001b[49m(\u001b[33m\"\u001b[39m\u001b[33mFRA\u001b[39m\u001b[33m\"\u001b[39m, \u001b[33m\"\u001b[39m\u001b[33mBCN\u001b[39m\u001b[33m\"\u001b[39m)  \u001b[38;5;66;03m# Frankfurt → Barcelona\u001b[39;00m\n\u001b[32m      3\u001b[39m df = prepare_dataframe(raw_data)\n",
      "\u001b[31mNameError\u001b[39m: name 'fetch_flight_data' is not defined"
     ]
    }
   ],
   "source": [
    "print(\"Hole Flugdaten...\")\n",
    "raw_data = fetch_flight_data(\"FRA\", \"BCN\")  # Frankfurt → Barcelona\n",
    "df = prepare_dataframe(raw_data)"
   ]
  },
  {
   "cell_type": "code",
   "execution_count": null,
   "id": "6e1312f8",
   "metadata": {},
   "outputs": [],
   "source": [
    "print(\"Erste Zeilen der Daten:\")\n",
    "print(df.head())"
   ]
  },
  {
   "cell_type": "code",
   "execution_count": null,
   "id": "cb296d13",
   "metadata": {},
   "outputs": [],
   "source": [
    "plt.figure(figsize=(10, 5))\n",
    "sns.lineplot(x=\"date\", y=\"price\", data=df)\n",
    "plt.title(\"Flugpreise FRA → BCN (nächste 30 Tage)\")\n",
    "plt.xlabel(\"Datum\")\n",
    "plt.ylabel(\"Preis in EUR\")\n",
    "plt.xticks(rotation=45)\n",
    "plt.tight_layout()\n",
    "plt.show()"
   ]
  },
  {
   "cell_type": "code",
   "execution_count": null,
   "id": "ca35d6c9",
   "metadata": {},
   "outputs": [],
   "source": [
    "weekday_avg = compare_weekday_prices(df)\n",
    "print(\"\\nDurchschnittliche Preise pro Wochentag:\")\n",
    "print(weekday_avg.sort_values())"
   ]
  },
  {
   "cell_type": "code",
   "execution_count": null,
   "id": "4ff45d9b",
   "metadata": {},
   "outputs": [],
   "source": [
    "t, p = run_statistical_test(df)\n",
    "print(f\"\\n t-Test Ergebnis:\")\n",
    "print(f\"t-Wert: {t:.2f}\")\n",
    "print(f\"p-Wert: {p:.4f}\")\n",
    "\n",
    "# Bewertung der Signifikanz\n",
    "if p < 0.05:\n",
    "    print(\"Statistisch signifikanter Unterschied zwischen Montag und Freitag\")\n",
    "else:\n",
    "    print(\"Kein signifikanter Preisunterschied festgestellt\")"
   ]
  }
 ],
 "metadata": {
  "kernelspec": {
   "display_name": "Python 3 (ipykernel)",
   "language": "python",
   "name": "python3"
  },
  "language_info": {
   "codemirror_mode": {
    "name": "ipython",
    "version": 3
   },
   "file_extension": ".py",
   "mimetype": "text/x-python",
   "name": "python",
   "nbconvert_exporter": "python",
   "pygments_lexer": "ipython3",
   "version": "3.12.1"
  }
 },
 "nbformat": 4,
 "nbformat_minor": 5
}
