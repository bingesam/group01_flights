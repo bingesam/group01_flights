import sys
sys.path.append('../')

ffrom app.app import (
fetch_flight_data,
prepare_dataframe,
analyze_price_distribution,
compare_weekday_prices,
run_statistical_test
)

import matplotlib.pyplot as plt
import seaborn as sns
import pandas as pd

print("Hole Flugdaten...")
raw_data = fetch_flight_data("FRA", "BCN")  # Frankfurt → Barcelona
df = prepare_dataframe(raw_data)


print("Erste Zeilen der Daten:")
print(df.head())


plt.figure(figsize=(10, 5))
sns.lineplot(x="date", y="price", data=df)
plt.title("Flugpreise FRA → BCN (nächste 30 Tage)")
plt.xlabel("Datum")
plt.ylabel("Preis in EUR")
plt.xticks(rotation=45)
plt.tight_layout()
plt.show()

weekday_avg = compare_weekday_prices(df)
print("\nDurchschnittliche Preise pro Wochentag:")
print(weekday_avg.sort_values())

t, p = run_statistical_test(df)
print(f"\n📊 t-Test Ergebnis:")
print(f"t-Wert: {t:.2f}")
print(f"p-Wert: {p:.4f}")

# Bewertung der Signifikanz
if p < 0.05:
    print("✅ Statistisch signifikanter Unterschied zwischen Montag und Freitag")
else:
    print("⚠️ Kein signifikanter Preisunterschied festgestellt
