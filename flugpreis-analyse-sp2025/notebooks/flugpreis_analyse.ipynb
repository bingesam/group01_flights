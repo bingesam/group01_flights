{
 "cells": [
  {
   "cell_type": "code",
   "execution_count": 1,
   "id": "40ca70b8",
   "metadata": {},
   "outputs": [],
   "source": [
    "import sys\n",
    "import os\n",
    "\n",
    "sys.path.insert(0, os.path.abspath('../app'))\n",
    "\n",
    "import importlib.util\n",
    "\n",
    "spec = importlib.util.spec_from_file_location(\"mainapp\", \"../app/mainapp.py\")\n",
    "mainapp = importlib.util.module_from_spec(spec)\n",
    "spec.loader.exec_module(mainapp)"
   ]
  },
  {
   "cell_type": "code",
   "execution_count": 2,
   "id": "d42b99e2",
   "metadata": {},
   "outputs": [],
   "source": [
    "import matplotlib.pyplot as plt\n",
    "import seaborn as sns\n",
    "import pandas as pd\n"
   ]
  },
  {
   "cell_type": "code",
   "execution_count": 3,
   "id": "de5cbcbb",
   "metadata": {},
   "outputs": [
    {
     "name": "stdout",
     "output_type": "stream",
     "text": [
      "Hole Flugdaten...\n",
      "Status Code: 200\n",
      "Antworttext: {\"currency\":\"eur\",\"error\":\"\",\"data\":[{\"depart_date\":\"2025-05-19\",\"origin\":\"FRA\",\"destination\":\"BCN\",\"gate\":\"City.Travel\",\"return_date\":\"2025-05-20\",\"found_at\":\"2025-04-25T19:40:49\",\"trip_class\":0,\"value\":52,\"number_of_changes\":0,\"duration\":245,\"distance\":1041,\"show_to_affiliates\":true,\"actual\":true}\n",
      "Rohdaten:\n",
      "[{'depart_date': '2025-05-19', 'origin': 'FRA', 'destination': 'BCN', 'gate': 'City.Travel', 'return_date': '2025-05-20', 'found_at': '2025-04-25T19:40:49', 'trip_class': 0, 'value': 52, 'number_of_changes': 0, 'duration': 245, 'distance': 1041, 'show_to_affiliates': True, 'actual': True}, {'depart_date': '2025-05-20', 'origin': 'FRA', 'destination': 'BCN', 'gate': 'City.Travel', 'return_date': '2025-05-24', 'found_at': '2025-04-27T16:36:41', 'trip_class': 0, 'value': 67, 'number_of_changes': 0, 'duration': 245, 'distance': 1041, 'show_to_affiliates': True, 'actual': True}, {'depart_date': '2025-06-23', 'origin': 'FRA', 'destination': 'BCN', 'gate': 'City.Travel', 'return_date': '2025-06-26', 'found_at': '2025-04-28T18:40:08', 'trip_class': 0, 'value': 74, 'number_of_changes': 0, 'duration': 245, 'distance': 1041, 'show_to_affiliates': True, 'actual': True}, {'depart_date': '2025-05-13', 'origin': 'FRA', 'destination': 'BCN', 'gate': 'City.Travel', 'return_date': '2025-05-15', 'found_at': '2025-04-25T09:15:23', 'trip_class': 0, 'value': 77, 'number_of_changes': 0, 'duration': 245, 'distance': 1041, 'show_to_affiliates': True, 'actual': True}, {'depart_date': '2025-05-17', 'origin': 'FRA', 'destination': 'BCN', 'gate': 'Biletix', 'return_date': '2025-05-20', 'found_at': '2025-04-26T18:45:18', 'trip_class': 0, 'value': 86, 'number_of_changes': 0, 'duration': 245, 'distance': 1041, 'show_to_affiliates': True, 'actual': True}, {'depart_date': '2025-05-20', 'origin': 'FRA', 'destination': 'BCN', 'gate': 'City.Travel', 'return_date': '2025-05-23', 'found_at': '2025-04-27T16:36:36', 'trip_class': 0, 'value': 100, 'number_of_changes': 1, 'duration': 1245, 'distance': 1041, 'show_to_affiliates': True, 'actual': True}, {'depart_date': '2025-07-03', 'origin': 'FRA', 'destination': 'BCN', 'gate': 'Biletix', 'return_date': '2025-07-10', 'found_at': '2025-04-26T19:16:18', 'trip_class': 0, 'value': 119, 'number_of_changes': 0, 'duration': 245, 'distance': 1041, 'show_to_affiliates': True, 'actual': True}, {'depart_date': '2025-07-02', 'origin': 'FRA', 'destination': 'BCN', 'gate': 'City.Travel', 'return_date': '2025-07-05', 'found_at': '2025-04-22T07:54:09', 'trip_class': 0, 'value': 119, 'number_of_changes': 1, 'duration': 1660, 'distance': 1041, 'show_to_affiliates': True, 'actual': True}, {'depart_date': '2025-10-06', 'origin': 'FRA', 'destination': 'BCN', 'gate': 'City.Travel', 'return_date': '2025-10-09', 'found_at': '2025-04-22T11:45:12', 'trip_class': 0, 'value': 120, 'number_of_changes': 0, 'duration': 245, 'distance': 1041, 'show_to_affiliates': True, 'actual': True}, {'depart_date': '2025-06-22', 'origin': 'FRA', 'destination': 'BCN', 'gate': 'City.Travel', 'return_date': '2025-06-24', 'found_at': '2025-04-23T07:30:50', 'trip_class': 0, 'value': 129, 'number_of_changes': 1, 'duration': 1500, 'distance': 1041, 'show_to_affiliates': True, 'actual': True}, {'depart_date': '2025-08-26', 'origin': 'FRA', 'destination': 'BCN', 'gate': 'City.Travel', 'return_date': '2025-08-27', 'found_at': '2025-04-25T08:20:42', 'trip_class': 0, 'value': 130, 'number_of_changes': 1, 'duration': 460, 'distance': 1041, 'show_to_affiliates': True, 'actual': True}, {'depart_date': '2025-06-05', 'origin': 'FRA', 'destination': 'BCN', 'gate': 'City.Travel', 'return_date': '2025-06-09', 'found_at': '2025-04-22T10:43:27', 'trip_class': 0, 'value': 148, 'number_of_changes': 0, 'duration': 245, 'distance': 1041, 'show_to_affiliates': True, 'actual': True}, {'depart_date': '2025-05-10', 'origin': 'FRA', 'destination': 'BCN', 'gate': 'City.Travel', 'return_date': '2025-05-16', 'found_at': '2025-04-24T08:24:39', 'trip_class': 0, 'value': 151, 'number_of_changes': 1, 'duration': 1475, 'distance': 1041, 'show_to_affiliates': True, 'actual': True}, {'depart_date': '2025-05-26', 'origin': 'FRA', 'destination': 'BCN', 'gate': 'City.Travel', 'return_date': '2025-05-31', 'found_at': '2025-04-24T09:35:22', 'trip_class': 0, 'value': 155, 'number_of_changes': 1, 'duration': 905, 'distance': 1041, 'show_to_affiliates': True, 'actual': True}, {'depart_date': '2025-05-15', 'origin': 'FRA', 'destination': 'BCN', 'gate': 'Kiwi.com', 'return_date': '2025-05-18', 'found_at': '2025-04-25T17:56:11', 'trip_class': 0, 'value': 155, 'number_of_changes': 1, 'duration': 900, 'distance': 1041, 'show_to_affiliates': True, 'actual': True}, {'depart_date': '2025-08-25', 'origin': 'FRA', 'destination': 'BCN', 'gate': 'City.Travel', 'return_date': '2025-08-27', 'found_at': '2025-04-25T08:20:42', 'trip_class': 0, 'value': 156, 'number_of_changes': 1, 'duration': 460, 'distance': 1041, 'show_to_affiliates': True, 'actual': True}, {'depart_date': '2025-07-01', 'origin': 'FRA', 'destination': 'BCN', 'gate': 'City.Travel', 'return_date': '2025-07-13', 'found_at': '2025-04-23T15:26:17', 'trip_class': 0, 'value': 157, 'number_of_changes': 1, 'duration': 745, 'distance': 1041, 'show_to_affiliates': True, 'actual': True}, {'depart_date': '2025-05-24', 'origin': 'FRA', 'destination': 'BCN', 'gate': 'City.Travel', 'return_date': '2025-05-29', 'found_at': '2025-04-26T12:10:58', 'trip_class': 0, 'value': 160, 'number_of_changes': 1, 'duration': 1005, 'distance': 1041, 'show_to_affiliates': True, 'actual': True}, {'depart_date': '2025-05-01', 'origin': 'FRA', 'destination': 'BCN', 'gate': 'City.Travel', 'return_date': '2025-05-06', 'found_at': '2025-04-24T21:32:17', 'trip_class': 0, 'value': 166, 'number_of_changes': 1, 'duration': 955, 'distance': 1094, 'show_to_affiliates': True, 'actual': True}, {'depart_date': '2025-08-30', 'origin': 'FRA', 'destination': 'BCN', 'gate': 'Kupi.com', 'return_date': '2025-09-06', 'found_at': '2025-04-27T06:48:05', 'trip_class': 0, 'value': 171, 'number_of_changes': 0, 'duration': 255, 'distance': 1094, 'show_to_affiliates': True, 'actual': True}, {'depart_date': '2025-06-05', 'origin': 'FRA', 'destination': 'BCN', 'gate': 'Kiwi.com', 'return_date': '2025-06-08', 'found_at': '2025-04-25T09:44:25', 'trip_class': 0, 'value': 174, 'number_of_changes': 1, 'duration': 735, 'distance': 1041, 'show_to_affiliates': True, 'actual': True}, {'depart_date': '2025-06-19', 'origin': 'FRA', 'destination': 'BCN', 'gate': 'Aviakassa', 'return_date': '2025-06-23', 'found_at': '2025-04-22T15:02:06', 'trip_class': 0, 'value': 181, 'number_of_changes': 1, 'duration': 2805, 'distance': 1041, 'show_to_affiliates': True, 'actual': True}, {'depart_date': '2025-05-03', 'origin': 'FRA', 'destination': 'BCN', 'gate': 'City.Travel', 'return_date': '2025-05-05', 'found_at': '2025-04-25T13:25:29', 'trip_class': 0, 'value': 185, 'number_of_changes': 2, 'duration': 2265, 'distance': 1041, 'show_to_affiliates': True, 'actual': True}, {'depart_date': '2025-07-29', 'origin': 'FRA', 'destination': 'BCN', 'gate': 'Biletix', 'return_date': '2025-08-09', 'found_at': '2025-04-25T16:47:29', 'trip_class': 0, 'value': 186, 'number_of_changes': 0, 'duration': 245, 'distance': 1041, 'show_to_affiliates': True, 'actual': True}, {'depart_date': '2025-07-05', 'origin': 'FRA', 'destination': 'BCN', 'gate': 'Biletix', 'return_date': '2025-07-10', 'found_at': '2025-04-26T19:18:03', 'trip_class': 0, 'value': 192, 'number_of_changes': 0, 'duration': 245, 'distance': 1041, 'show_to_affiliates': True, 'actual': True}, {'depart_date': '2025-07-05', 'origin': 'FRA', 'destination': 'BCN', 'gate': 'Kupi.com', 'return_date': '2025-07-12', 'found_at': '2025-04-24T15:46:54', 'trip_class': 0, 'value': 197, 'number_of_changes': 0, 'duration': 255, 'distance': 1094, 'show_to_affiliates': True, 'actual': True}, {'depart_date': '2025-06-06', 'origin': 'FRA', 'destination': 'BCN', 'gate': 'Kiwi.com', 'return_date': '2025-06-09', 'found_at': '2025-04-22T10:46:55', 'trip_class': 0, 'value': 204, 'number_of_changes': 1, 'duration': 765, 'distance': 1094, 'show_to_affiliates': True, 'actual': True}, {'depart_date': '2025-08-24', 'origin': 'FRA', 'destination': 'BCN', 'gate': 'Aviakassa', 'return_date': '2025-08-27', 'found_at': '2025-04-25T08:20:42', 'trip_class': 0, 'value': 227, 'number_of_changes': 1, 'duration': 1330, 'distance': 1094, 'show_to_affiliates': True, 'actual': True}, {'depart_date': '2025-04-30', 'origin': 'FRA', 'destination': 'BCN', 'gate': 'City.Travel', 'return_date': '2025-05-07', 'found_at': '2025-04-26T17:39:23', 'trip_class': 0, 'value': 232, 'number_of_changes': 1, 'duration': 2055, 'distance': 1094, 'show_to_affiliates': True, 'actual': True}, {'depart_date': '2025-05-28', 'origin': 'FRA', 'destination': 'BCN', 'gate': 'Aviakassa', 'return_date': '2025-05-31', 'found_at': '2025-04-26T08:12:24', 'trip_class': 0, 'value': 241, 'number_of_changes': 1, 'duration': 1385, 'distance': 1094, 'show_to_affiliates': True, 'actual': True}]\n",
      "⚠️ Keine gültigen Flugdaten im DataFrame!\n",
      "Erste Zeilen der Daten:\n",
      "Empty DataFrame\n",
      "Columns: []\n",
      "Index: []\n"
     ]
    }
   ],
   "source": [
    "print(\"Hole Flugdaten...\")\n",
    "\n",
    "raw_data = mainapp.fetch_flight_data(\"FRA\", \"BCN\")  # <-- Erst Flugdaten holen\n",
    "print(\"Rohdaten:\")\n",
    "print(raw_data)\n",
    "\n",
    "df = mainapp.prepare_dataframe(raw_data)            # <-- Dann DataFrame erstellen\n",
    "print(\"Erste Zeilen der Daten:\")\n",
    "print(df.head())                                    # <-- Erst jetzt df.head() aufrufen"
   ]
  },
  {
   "cell_type": "code",
   "execution_count": 4,
   "id": "6e1312f8",
   "metadata": {},
   "outputs": [
    {
     "ename": "ValueError",
     "evalue": "Could not interpret value `date` for `x`. An entry with this name does not appear in `data`.",
     "output_type": "error",
     "traceback": [
      "\u001b[31m---------------------------------------------------------------------------\u001b[39m",
      "\u001b[31mValueError\u001b[39m                                Traceback (most recent call last)",
      "\u001b[36mCell\u001b[39m\u001b[36m \u001b[39m\u001b[32mIn[4]\u001b[39m\u001b[32m, line 2\u001b[39m\n\u001b[32m      1\u001b[39m plt.figure(figsize=(\u001b[32m10\u001b[39m, \u001b[32m5\u001b[39m))\n\u001b[32m----> \u001b[39m\u001b[32m2\u001b[39m \u001b[43msns\u001b[49m\u001b[43m.\u001b[49m\u001b[43mlineplot\u001b[49m\u001b[43m(\u001b[49m\u001b[43mx\u001b[49m\u001b[43m=\u001b[49m\u001b[33;43m\"\u001b[39;49m\u001b[33;43mdate\u001b[39;49m\u001b[33;43m\"\u001b[39;49m\u001b[43m,\u001b[49m\u001b[43m \u001b[49m\u001b[43my\u001b[49m\u001b[43m=\u001b[49m\u001b[33;43m\"\u001b[39;49m\u001b[33;43mprice\u001b[39;49m\u001b[33;43m\"\u001b[39;49m\u001b[43m,\u001b[49m\u001b[43m \u001b[49m\u001b[43mdata\u001b[49m\u001b[43m=\u001b[49m\u001b[43mdf\u001b[49m\u001b[43m)\u001b[49m\n\u001b[32m      3\u001b[39m plt.title(\u001b[33m\"\u001b[39m\u001b[33mFlugpreise FRA → BCN (nächste 30 Tage)\u001b[39m\u001b[33m\"\u001b[39m)\n\u001b[32m      4\u001b[39m plt.xlabel(\u001b[33m\"\u001b[39m\u001b[33mDatum\u001b[39m\u001b[33m\"\u001b[39m)\n",
      "\u001b[36mFile \u001b[39m\u001b[32m~/.local/lib/python3.12/site-packages/seaborn/relational.py:485\u001b[39m, in \u001b[36mlineplot\u001b[39m\u001b[34m(data, x, y, hue, size, style, units, weights, palette, hue_order, hue_norm, sizes, size_order, size_norm, dashes, markers, style_order, estimator, errorbar, n_boot, seed, orient, sort, err_style, err_kws, legend, ci, ax, **kwargs)\u001b[39m\n\u001b[32m    471\u001b[39m \u001b[38;5;28;01mdef\u001b[39;00m\u001b[38;5;250m \u001b[39m\u001b[34mlineplot\u001b[39m(\n\u001b[32m    472\u001b[39m     data=\u001b[38;5;28;01mNone\u001b[39;00m, *,\n\u001b[32m    473\u001b[39m     x=\u001b[38;5;28;01mNone\u001b[39;00m, y=\u001b[38;5;28;01mNone\u001b[39;00m, hue=\u001b[38;5;28;01mNone\u001b[39;00m, size=\u001b[38;5;28;01mNone\u001b[39;00m, style=\u001b[38;5;28;01mNone\u001b[39;00m, units=\u001b[38;5;28;01mNone\u001b[39;00m, weights=\u001b[38;5;28;01mNone\u001b[39;00m,\n\u001b[32m   (...)\u001b[39m\u001b[32m    481\u001b[39m \n\u001b[32m    482\u001b[39m     \u001b[38;5;66;03m# Handle deprecation of ci parameter\u001b[39;00m\n\u001b[32m    483\u001b[39m     errorbar = _deprecate_ci(errorbar, ci)\n\u001b[32m--> \u001b[39m\u001b[32m485\u001b[39m     p = \u001b[43m_LinePlotter\u001b[49m\u001b[43m(\u001b[49m\n\u001b[32m    486\u001b[39m \u001b[43m        \u001b[49m\u001b[43mdata\u001b[49m\u001b[43m=\u001b[49m\u001b[43mdata\u001b[49m\u001b[43m,\u001b[49m\n\u001b[32m    487\u001b[39m \u001b[43m        \u001b[49m\u001b[43mvariables\u001b[49m\u001b[43m=\u001b[49m\u001b[38;5;28;43mdict\u001b[39;49m\u001b[43m(\u001b[49m\n\u001b[32m    488\u001b[39m \u001b[43m            \u001b[49m\u001b[43mx\u001b[49m\u001b[43m=\u001b[49m\u001b[43mx\u001b[49m\u001b[43m,\u001b[49m\u001b[43m \u001b[49m\u001b[43my\u001b[49m\u001b[43m=\u001b[49m\u001b[43my\u001b[49m\u001b[43m,\u001b[49m\u001b[43m \u001b[49m\u001b[43mhue\u001b[49m\u001b[43m=\u001b[49m\u001b[43mhue\u001b[49m\u001b[43m,\u001b[49m\u001b[43m \u001b[49m\u001b[43msize\u001b[49m\u001b[43m=\u001b[49m\u001b[43msize\u001b[49m\u001b[43m,\u001b[49m\u001b[43m \u001b[49m\u001b[43mstyle\u001b[49m\u001b[43m=\u001b[49m\u001b[43mstyle\u001b[49m\u001b[43m,\u001b[49m\u001b[43m \u001b[49m\u001b[43munits\u001b[49m\u001b[43m=\u001b[49m\u001b[43munits\u001b[49m\u001b[43m,\u001b[49m\u001b[43m \u001b[49m\u001b[43mweight\u001b[49m\u001b[43m=\u001b[49m\u001b[43mweights\u001b[49m\n\u001b[32m    489\u001b[39m \u001b[43m        \u001b[49m\u001b[43m)\u001b[49m\u001b[43m,\u001b[49m\n\u001b[32m    490\u001b[39m \u001b[43m        \u001b[49m\u001b[43mestimator\u001b[49m\u001b[43m=\u001b[49m\u001b[43mestimator\u001b[49m\u001b[43m,\u001b[49m\u001b[43m \u001b[49m\u001b[43mn_boot\u001b[49m\u001b[43m=\u001b[49m\u001b[43mn_boot\u001b[49m\u001b[43m,\u001b[49m\u001b[43m \u001b[49m\u001b[43mseed\u001b[49m\u001b[43m=\u001b[49m\u001b[43mseed\u001b[49m\u001b[43m,\u001b[49m\u001b[43m \u001b[49m\u001b[43merrorbar\u001b[49m\u001b[43m=\u001b[49m\u001b[43merrorbar\u001b[49m\u001b[43m,\u001b[49m\n\u001b[32m    491\u001b[39m \u001b[43m        \u001b[49m\u001b[43msort\u001b[49m\u001b[43m=\u001b[49m\u001b[43msort\u001b[49m\u001b[43m,\u001b[49m\u001b[43m \u001b[49m\u001b[43morient\u001b[49m\u001b[43m=\u001b[49m\u001b[43morient\u001b[49m\u001b[43m,\u001b[49m\u001b[43m \u001b[49m\u001b[43merr_style\u001b[49m\u001b[43m=\u001b[49m\u001b[43merr_style\u001b[49m\u001b[43m,\u001b[49m\u001b[43m \u001b[49m\u001b[43merr_kws\u001b[49m\u001b[43m=\u001b[49m\u001b[43merr_kws\u001b[49m\u001b[43m,\u001b[49m\n\u001b[32m    492\u001b[39m \u001b[43m        \u001b[49m\u001b[43mlegend\u001b[49m\u001b[43m=\u001b[49m\u001b[43mlegend\u001b[49m\u001b[43m,\u001b[49m\n\u001b[32m    493\u001b[39m \u001b[43m    \u001b[49m\u001b[43m)\u001b[49m\n\u001b[32m    495\u001b[39m     p.map_hue(palette=palette, order=hue_order, norm=hue_norm)\n\u001b[32m    496\u001b[39m     p.map_size(sizes=sizes, order=size_order, norm=size_norm)\n",
      "\u001b[36mFile \u001b[39m\u001b[32m~/.local/lib/python3.12/site-packages/seaborn/relational.py:216\u001b[39m, in \u001b[36m_LinePlotter.__init__\u001b[39m\u001b[34m(self, data, variables, estimator, n_boot, seed, errorbar, sort, orient, err_style, err_kws, legend)\u001b[39m\n\u001b[32m    202\u001b[39m \u001b[38;5;28;01mdef\u001b[39;00m\u001b[38;5;250m \u001b[39m\u001b[34m__init__\u001b[39m(\n\u001b[32m    203\u001b[39m     \u001b[38;5;28mself\u001b[39m, *,\n\u001b[32m    204\u001b[39m     data=\u001b[38;5;28;01mNone\u001b[39;00m, variables={},\n\u001b[32m   (...)\u001b[39m\u001b[32m    210\u001b[39m     \u001b[38;5;66;03m# the kind of plot to draw, but for the time being we need to set\u001b[39;00m\n\u001b[32m    211\u001b[39m     \u001b[38;5;66;03m# this information so the SizeMapping can use it\u001b[39;00m\n\u001b[32m    212\u001b[39m     \u001b[38;5;28mself\u001b[39m._default_size_range = (\n\u001b[32m    213\u001b[39m         np.r_[\u001b[32m.5\u001b[39m, \u001b[32m2\u001b[39m] * mpl.rcParams[\u001b[33m\"\u001b[39m\u001b[33mlines.linewidth\u001b[39m\u001b[33m\"\u001b[39m]\n\u001b[32m    214\u001b[39m     )\n\u001b[32m--> \u001b[39m\u001b[32m216\u001b[39m     \u001b[38;5;28;43msuper\u001b[39;49m\u001b[43m(\u001b[49m\u001b[43m)\u001b[49m\u001b[43m.\u001b[49m\u001b[34;43m__init__\u001b[39;49m\u001b[43m(\u001b[49m\u001b[43mdata\u001b[49m\u001b[43m=\u001b[49m\u001b[43mdata\u001b[49m\u001b[43m,\u001b[49m\u001b[43m \u001b[49m\u001b[43mvariables\u001b[49m\u001b[43m=\u001b[49m\u001b[43mvariables\u001b[49m\u001b[43m)\u001b[49m\n\u001b[32m    218\u001b[39m     \u001b[38;5;28mself\u001b[39m.estimator = estimator\n\u001b[32m    219\u001b[39m     \u001b[38;5;28mself\u001b[39m.errorbar = errorbar\n",
      "\u001b[36mFile \u001b[39m\u001b[32m~/.local/lib/python3.12/site-packages/seaborn/_base.py:634\u001b[39m, in \u001b[36mVectorPlotter.__init__\u001b[39m\u001b[34m(self, data, variables)\u001b[39m\n\u001b[32m    629\u001b[39m \u001b[38;5;66;03m# var_ordered is relevant only for categorical axis variables, and may\u001b[39;00m\n\u001b[32m    630\u001b[39m \u001b[38;5;66;03m# be better handled by an internal axis information object that tracks\u001b[39;00m\n\u001b[32m    631\u001b[39m \u001b[38;5;66;03m# such information and is set up by the scale_* methods. The analogous\u001b[39;00m\n\u001b[32m    632\u001b[39m \u001b[38;5;66;03m# information for numeric axes would be information about log scales.\u001b[39;00m\n\u001b[32m    633\u001b[39m \u001b[38;5;28mself\u001b[39m._var_ordered = {\u001b[33m\"\u001b[39m\u001b[33mx\u001b[39m\u001b[33m\"\u001b[39m: \u001b[38;5;28;01mFalse\u001b[39;00m, \u001b[33m\"\u001b[39m\u001b[33my\u001b[39m\u001b[33m\"\u001b[39m: \u001b[38;5;28;01mFalse\u001b[39;00m}  \u001b[38;5;66;03m# alt., used DefaultDict\u001b[39;00m\n\u001b[32m--> \u001b[39m\u001b[32m634\u001b[39m \u001b[38;5;28;43mself\u001b[39;49m\u001b[43m.\u001b[49m\u001b[43massign_variables\u001b[49m\u001b[43m(\u001b[49m\u001b[43mdata\u001b[49m\u001b[43m,\u001b[49m\u001b[43m \u001b[49m\u001b[43mvariables\u001b[49m\u001b[43m)\u001b[49m\n\u001b[32m    636\u001b[39m \u001b[38;5;66;03m# TODO Lots of tests assume that these are called to initialize the\u001b[39;00m\n\u001b[32m    637\u001b[39m \u001b[38;5;66;03m# mappings to default values on class initialization. I'd prefer to\u001b[39;00m\n\u001b[32m    638\u001b[39m \u001b[38;5;66;03m# move away from that and only have a mapping when explicitly called.\u001b[39;00m\n\u001b[32m    639\u001b[39m \u001b[38;5;28;01mfor\u001b[39;00m var \u001b[38;5;129;01min\u001b[39;00m [\u001b[33m\"\u001b[39m\u001b[33mhue\u001b[39m\u001b[33m\"\u001b[39m, \u001b[33m\"\u001b[39m\u001b[33msize\u001b[39m\u001b[33m\"\u001b[39m, \u001b[33m\"\u001b[39m\u001b[33mstyle\u001b[39m\u001b[33m\"\u001b[39m]:\n",
      "\u001b[36mFile \u001b[39m\u001b[32m~/.local/lib/python3.12/site-packages/seaborn/_base.py:679\u001b[39m, in \u001b[36mVectorPlotter.assign_variables\u001b[39m\u001b[34m(self, data, variables)\u001b[39m\n\u001b[32m    674\u001b[39m \u001b[38;5;28;01melse\u001b[39;00m:\n\u001b[32m    675\u001b[39m     \u001b[38;5;66;03m# When dealing with long-form input, use the newer PlotData\u001b[39;00m\n\u001b[32m    676\u001b[39m     \u001b[38;5;66;03m# object (internal but introduced for the objects interface)\u001b[39;00m\n\u001b[32m    677\u001b[39m     \u001b[38;5;66;03m# to centralize / standardize data consumption logic.\u001b[39;00m\n\u001b[32m    678\u001b[39m     \u001b[38;5;28mself\u001b[39m.input_format = \u001b[33m\"\u001b[39m\u001b[33mlong\u001b[39m\u001b[33m\"\u001b[39m\n\u001b[32m--> \u001b[39m\u001b[32m679\u001b[39m     plot_data = \u001b[43mPlotData\u001b[49m\u001b[43m(\u001b[49m\u001b[43mdata\u001b[49m\u001b[43m,\u001b[49m\u001b[43m \u001b[49m\u001b[43mvariables\u001b[49m\u001b[43m)\u001b[49m\n\u001b[32m    680\u001b[39m     frame = plot_data.frame\n\u001b[32m    681\u001b[39m     names = plot_data.names\n",
      "\u001b[36mFile \u001b[39m\u001b[32m~/.local/lib/python3.12/site-packages/seaborn/_core/data.py:58\u001b[39m, in \u001b[36mPlotData.__init__\u001b[39m\u001b[34m(self, data, variables)\u001b[39m\n\u001b[32m     51\u001b[39m \u001b[38;5;28;01mdef\u001b[39;00m\u001b[38;5;250m \u001b[39m\u001b[34m__init__\u001b[39m(\n\u001b[32m     52\u001b[39m     \u001b[38;5;28mself\u001b[39m,\n\u001b[32m     53\u001b[39m     data: DataSource,\n\u001b[32m     54\u001b[39m     variables: \u001b[38;5;28mdict\u001b[39m[\u001b[38;5;28mstr\u001b[39m, VariableSpec],\n\u001b[32m     55\u001b[39m ):\n\u001b[32m     57\u001b[39m     data = handle_data_source(data)\n\u001b[32m---> \u001b[39m\u001b[32m58\u001b[39m     frame, names, ids = \u001b[38;5;28;43mself\u001b[39;49m\u001b[43m.\u001b[49m\u001b[43m_assign_variables\u001b[49m\u001b[43m(\u001b[49m\u001b[43mdata\u001b[49m\u001b[43m,\u001b[49m\u001b[43m \u001b[49m\u001b[43mvariables\u001b[49m\u001b[43m)\u001b[49m\n\u001b[32m     60\u001b[39m     \u001b[38;5;28mself\u001b[39m.frame = frame\n\u001b[32m     61\u001b[39m     \u001b[38;5;28mself\u001b[39m.names = names\n",
      "\u001b[36mFile \u001b[39m\u001b[32m~/.local/lib/python3.12/site-packages/seaborn/_core/data.py:232\u001b[39m, in \u001b[36mPlotData._assign_variables\u001b[39m\u001b[34m(self, data, variables)\u001b[39m\n\u001b[32m    230\u001b[39m     \u001b[38;5;28;01melse\u001b[39;00m:\n\u001b[32m    231\u001b[39m         err += \u001b[33m\"\u001b[39m\u001b[33mAn entry with this name does not appear in `data`.\u001b[39m\u001b[33m\"\u001b[39m\n\u001b[32m--> \u001b[39m\u001b[32m232\u001b[39m     \u001b[38;5;28;01mraise\u001b[39;00m \u001b[38;5;167;01mValueError\u001b[39;00m(err)\n\u001b[32m    234\u001b[39m \u001b[38;5;28;01melse\u001b[39;00m:\n\u001b[32m    235\u001b[39m \n\u001b[32m    236\u001b[39m     \u001b[38;5;66;03m# Otherwise, assume the value somehow represents data\u001b[39;00m\n\u001b[32m    237\u001b[39m \n\u001b[32m    238\u001b[39m     \u001b[38;5;66;03m# Ignore empty data structures\u001b[39;00m\n\u001b[32m    239\u001b[39m     \u001b[38;5;28;01mif\u001b[39;00m \u001b[38;5;28misinstance\u001b[39m(val, Sized) \u001b[38;5;129;01mand\u001b[39;00m \u001b[38;5;28mlen\u001b[39m(val) == \u001b[32m0\u001b[39m:\n",
      "\u001b[31mValueError\u001b[39m: Could not interpret value `date` for `x`. An entry with this name does not appear in `data`."
     ]
    },
    {
     "data": {
      "text/plain": [
       "<Figure size 1000x500 with 0 Axes>"
      ]
     },
     "metadata": {},
     "output_type": "display_data"
    }
   ],
   "source": [
    "plt.figure(figsize=(10, 5))\n",
    "sns.lineplot(x=\"date\", y=\"price\", data=df)\n",
    "plt.title(\"Flugpreise FRA → BCN (nächste 30 Tage)\")\n",
    "plt.xlabel(\"Datum\")\n",
    "plt.ylabel(\"Preis in EUR\")\n",
    "plt.xticks(rotation=45)\n",
    "plt.tight_layout()\n",
    "plt.show()\n"
   ]
  },
  {
   "cell_type": "code",
   "execution_count": null,
   "id": "cb296d13",
   "metadata": {},
   "outputs": [],
   "source": [
    "weekday_avg = mainapp.compare_weekday_prices(df)\n",
    "print(\"\\nDurchschnittliche Preise pro Wochentag:\")\n",
    "print(weekday_avg.sort_values())\n"
   ]
  },
  {
   "cell_type": "code",
   "execution_count": null,
   "id": "ca35d6c9",
   "metadata": {},
   "outputs": [],
   "source": [
    "t, p = mainapp.run_statistical_test(df)\n",
    "\n",
    "print(f\"\\n📊 t-Test Ergebnis:\")\n",
    "print(f\"t-Wert: {t:.2f}\")\n",
    "print(f\"p-Wert: {p:.4f}\")\n",
    "\n",
    "if p < 0.05:\n",
    "    print(\"✅ Statistisch signifikanter Unterschied zwischen Montag und Freitag\")\n",
    "else:\n",
    "    print(\"⚠️ Kein signifikanter Preisunterschied festgestellt\")\n"
   ]
  }
 ],
 "metadata": {
  "kernelspec": {
   "display_name": "Python 3",
   "language": "python",
   "name": "python3"
  },
  "language_info": {
   "codemirror_mode": {
    "name": "ipython",
    "version": 3
   },
   "file_extension": ".py",
   "mimetype": "text/x-python",
   "name": "python",
   "nbconvert_exporter": "python",
   "pygments_lexer": "ipython3",
   "version": "3.12.1"
  }
 },
 "nbformat": 4,
 "nbformat_minor": 5
}
