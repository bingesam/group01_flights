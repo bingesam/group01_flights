{
 "cells": [
  {
   "cell_type": "code",
   "execution_count": 1,
   "id": "40ca70b8",
   "metadata": {},
   "outputs": [
    {
     "ename": "FileNotFoundError",
     "evalue": "[Errno 2] No such file or directory: '/workspaces/group01_flights/notebooks/../app/mainapp.py'",
     "output_type": "error",
     "traceback": [
      "\u001b[31m---------------------------------------------------------------------------\u001b[39m",
      "\u001b[31mFileNotFoundError\u001b[39m                         Traceback (most recent call last)",
      "\u001b[36mCell\u001b[39m\u001b[36m \u001b[39m\u001b[32mIn[1]\u001b[39m\u001b[32m, line 10\u001b[39m\n\u001b[32m      8\u001b[39m spec = importlib.util.spec_from_file_location(\u001b[33m\"\u001b[39m\u001b[33mmainapp\u001b[39m\u001b[33m\"\u001b[39m, \u001b[33m\"\u001b[39m\u001b[33m../app/mainapp.py\u001b[39m\u001b[33m\"\u001b[39m)\n\u001b[32m      9\u001b[39m mainapp = importlib.util.module_from_spec(spec)\n\u001b[32m---> \u001b[39m\u001b[32m10\u001b[39m \u001b[43mspec\u001b[49m\u001b[43m.\u001b[49m\u001b[43mloader\u001b[49m\u001b[43m.\u001b[49m\u001b[43mexec_module\u001b[49m\u001b[43m(\u001b[49m\u001b[43mmainapp\u001b[49m\u001b[43m)\u001b[49m\n",
      "\u001b[36mFile \u001b[39m\u001b[32m<frozen importlib._bootstrap_external>:990\u001b[39m, in \u001b[36mexec_module\u001b[39m\u001b[34m(self, module)\u001b[39m\n",
      "\u001b[36mFile \u001b[39m\u001b[32m<frozen importlib._bootstrap_external>:1127\u001b[39m, in \u001b[36mget_code\u001b[39m\u001b[34m(self, fullname)\u001b[39m\n",
      "\u001b[36mFile \u001b[39m\u001b[32m<frozen importlib._bootstrap_external>:1185\u001b[39m, in \u001b[36mget_data\u001b[39m\u001b[34m(self, path)\u001b[39m\n",
      "\u001b[31mFileNotFoundError\u001b[39m: [Errno 2] No such file or directory: '/workspaces/group01_flights/notebooks/../app/mainapp.py'"
     ]
    }
   ],
   "source": [
    "import sys\n",
    "import os\n",
    "\n",
    "sys.path.insert(0, os.path.abspath('../app'))\n",
    "\n",
    "import importlib.util\n",
    "\n",
    "spec = importlib.util.spec_from_file_location(\"mainapp\", \"../app/mainapp.py\")\n",
    "mainapp = importlib.util.module_from_spec(spec)\n",
    "spec.loader.exec_module(mainapp)"
   ]
  },
  {
   "cell_type": "code",
   "execution_count": null,
   "id": "d42b99e2",
   "metadata": {},
   "outputs": [],
   "source": [
    "import matplotlib.pyplot as plt\n",
    "import seaborn as sns\n",
    "import pandas as pd\n"
   ]
  },
  {
   "cell_type": "code",
   "execution_count": null,
   "id": "de5cbcbb",
   "metadata": {},
   "outputs": [],
   "source": [
    "print(\"Hole Flugdaten...\")\n",
    "\n",
    "raw_data = mainapp.fetch_flight_data(\"FRA\", \"BCN\")\n",
    "df = mainapp.prepare_dataframe(raw_data)\n",
    "\n",
    "print(\"Erste Zeilen der Daten:\")\n",
    "print(df.head())"
   ]
  },
  {
   "cell_type": "code",
   "execution_count": null,
   "id": "6e1312f8",
   "metadata": {},
   "outputs": [],
   "source": [
    "plt.figure(figsize=(10, 5))\n",
    "sns.lineplot(x=\"date\", y=\"price\", data=df)\n",
    "plt.title(\"Flugpreise FRA → BCN (nächste 30 Tage)\")\n",
    "plt.xlabel(\"Datum\")\n",
    "plt.ylabel(\"Preis in EUR\")\n",
    "plt.xticks(rotation=45)\n",
    "plt.tight_layout()\n",
    "plt.show()\n"
   ]
  },
  {
   "cell_type": "code",
   "execution_count": null,
   "id": "cb296d13",
   "metadata": {},
   "outputs": [],
   "source": [
    "weekday_avg = mainapp.compare_weekday_prices(df)\n",
    "print(\"\\nDurchschnittliche Preise pro Wochentag:\")\n",
    "print(weekday_avg.sort_values())\n"
   ]
  },
  {
   "cell_type": "code",
   "execution_count": null,
   "id": "ca35d6c9",
   "metadata": {},
   "outputs": [],
   "source": [
    "t, p = mainapp.run_statistical_test(df)\n",
    "\n",
    "print(f\"\\n📊 t-Test Ergebnis:\")\n",
    "print(f\"t-Wert: {t:.2f}\")\n",
    "print(f\"p-Wert: {p:.4f}\")\n",
    "\n",
    "if p < 0.05:\n",
    "    print(\"✅ Statistisch signifikanter Unterschied zwischen Montag und Freitag\")\n",
    "else:\n",
    "    print(\"⚠️ Kein signifikanter Preisunterschied festgestellt\")\n"
   ]
  }
 ],
 "metadata": {
  "kernelspec": {
   "display_name": "Python 3 (ipykernel)",
   "language": "python",
   "name": "python3"
  }
 },
 "nbformat": 4,
 "nbformat_minor": 5
}
