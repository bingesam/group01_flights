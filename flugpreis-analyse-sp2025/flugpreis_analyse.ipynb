from src.flight_analysis import (
    fetch_flight_data,
    prepare_dataframe,
    analyze_price_distribution,
    compare_weekday_prices,
    run_statistical_test
)
import matplotlib.pyplot as plt
import seaborn as sns

# Echtes API-Call (FRA → BCN)
raw_data = fetch_flight_data("FRA", "BCN")
df = prepare_dataframe(raw_data)

# Überblick
print(df.head())

# Visualisierung
sns.lineplot(x="date", y="price", data=df)
plt.title("Flugpreise FRA → BCN (30 Tage)")
plt.xticks(rotation=45)
plt.tight_layout()
plt.show()

# Durchschnittliche Preise pro Wochentag
weekday_avg = compare_weekday_prices(df)
print(weekday_avg)

# Statistischer Test Montag vs. Freitag
t, p = run_statistical_test(df)
print(f"t-Wert: {t:.2f}, p-Wert: {p:.4f}")
